{
 "cells": [
  {
   "cell_type": "markdown",
   "metadata": {},
   "source": [
    "SMA"
   ]
  },
  {
   "cell_type": "markdown",
   "metadata": {},
   "source": [
    "rolling_mean = df.y.rolling(window=20).mean()\n",
    "\n",
    "rolling_mean2 = df.y.rolling(window=50).mean()"
   ]
  },
  {
   "cell_type": "markdown",
   "metadata": {},
   "source": [
    "EMA (Exponential Weighted Moving Average equivalent to pandas.ewm().mean()"
   ]
  },
  {
   "cell_type": "markdown",
   "metadata": {},
   "source": [
    "exp1 = df.y.ewm(span=20, adjust=False).mean()\n",
    "\n",
    "\n",
    "exp2 = df.y.ewm(span=50, adjust=False).mean()"
   ]
  },
  {
   "cell_type": "markdown",
   "metadata": {},
   "source": [
    "MACD WITH TALIB"
   ]
  },
  {
   "cell_type": "markdown",
   "metadata": {},
   "source": [
    "import talib as tal\n",
    "macd_tal = tal.MACD(close_price, fastperiod=macd_fast, slowperiod=macd_slow, signalperiod=macd_signal)\n"
   ]
  }
 ],
 "metadata": {
  "kernelspec": {
   "display_name": "Python 3",
   "language": "python",
   "name": "python3"
  },
  "language_info": {
   "codemirror_mode": {
    "name": "ipython",
    "version": 3
   },
   "file_extension": ".py",
   "mimetype": "text/x-python",
   "name": "python",
   "nbconvert_exporter": "python",
   "pygments_lexer": "ipython3",
   "version": "3.7.3"
  }
 },
 "nbformat": 4,
 "nbformat_minor": 2
}
